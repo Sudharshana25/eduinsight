{
 "cells": [
  {
   "cell_type": "code",
   "execution_count": 3,
   "id": "cece5da8",
   "metadata": {},
   "outputs": [
    {
     "name": "stderr",
     "output_type": "stream",
     "text": [
      "\n",
      "[notice] A new release of pip available: 22.3.1 -> 25.1.1\n",
      "[notice] To update, run: python.exe -m pip install --upgrade pip\n"
     ]
    },
    {
     "name": "stdout",
     "output_type": "stream",
     "text": [
      "Defaulting to user installation because normal site-packages is not writeable\n",
      "Collecting pandas\n",
      "  Using cached pandas-2.3.0-cp310-cp310-win_amd64.whl (11.1 MB)\n",
      "Requirement already satisfied: matplotlib in c:\\users\\sudha\\appdata\\roaming\\python\\python310\\site-packages (3.10.3)\n",
      "Collecting seaborn\n",
      "  Using cached seaborn-0.13.2-py3-none-any.whl (294 kB)\n",
      "Requirement already satisfied: python-dateutil>=2.8.2 in c:\\users\\sudha\\appdata\\roaming\\python\\python310\\site-packages (from pandas) (2.9.0.post0)\n",
      "Collecting pytz>=2020.1\n",
      "  Using cached pytz-2025.2-py2.py3-none-any.whl (509 kB)\n",
      "Requirement already satisfied: numpy>=1.22.4 in c:\\users\\sudha\\appdata\\roaming\\python\\python310\\site-packages (from pandas) (1.26.4)\n",
      "Collecting tzdata>=2022.7\n",
      "  Using cached tzdata-2025.2-py2.py3-none-any.whl (347 kB)\n",
      "Requirement already satisfied: pillow>=8 in c:\\users\\sudha\\appdata\\roaming\\python\\python310\\site-packages (from matplotlib) (11.2.1)\n",
      "Requirement already satisfied: pyparsing>=2.3.1 in c:\\users\\sudha\\appdata\\roaming\\python\\python310\\site-packages (from matplotlib) (3.2.3)\n",
      "Requirement already satisfied: contourpy>=1.0.1 in c:\\users\\sudha\\appdata\\roaming\\python\\python310\\site-packages (from matplotlib) (1.3.2)\n",
      "Requirement already satisfied: packaging>=20.0 in c:\\users\\sudha\\appdata\\roaming\\python\\python310\\site-packages (from matplotlib) (25.0)\n",
      "Requirement already satisfied: fonttools>=4.22.0 in c:\\users\\sudha\\appdata\\roaming\\python\\python310\\site-packages (from matplotlib) (4.58.4)\n",
      "Requirement already satisfied: kiwisolver>=1.3.1 in c:\\users\\sudha\\appdata\\roaming\\python\\python310\\site-packages (from matplotlib) (1.4.8)\n",
      "Requirement already satisfied: cycler>=0.10 in c:\\users\\sudha\\appdata\\roaming\\python\\python310\\site-packages (from matplotlib) (0.12.1)\n",
      "Requirement already satisfied: six>=1.5 in c:\\users\\sudha\\appdata\\roaming\\python\\python310\\site-packages (from python-dateutil>=2.8.2->pandas) (1.17.0)\n",
      "Installing collected packages: pytz, tzdata, pandas, seaborn\n",
      "Successfully installed pandas-2.3.0 pytz-2025.2 seaborn-0.13.2 tzdata-2025.2\n",
      "Note: you may need to restart the kernel to use updated packages.\n",
      "🔹 Dataset Loaded:\n",
      "   student_id  avg_quiz_score  attendance_pct  num_assignments_submitted  \\\n",
      "0           1             7.5              90                          6   \n",
      "1           2             4.0              55                          3   \n",
      "2           3             6.2              75                          4   \n",
      "3           4             5.0              65                          3   \n",
      "4           5             3.2              40                          2   \n",
      "\n",
      "   lms_interactions  performance_label  \n",
      "0                35                  2  \n",
      "1                15                  0  \n",
      "2                22                  1  \n",
      "3                20                  1  \n",
      "4                10                  0  \n",
      "\n",
      "🔹 Missing Values:\n",
      "student_id                   0\n",
      "avg_quiz_score               0\n",
      "attendance_pct               0\n",
      "num_assignments_submitted    0\n",
      "lms_interactions             0\n",
      "performance_label            0\n",
      "dtype: int64\n",
      "\n",
      "🔹 Statistical Overview:\n",
      "       student_id  avg_quiz_score  attendance_pct  num_assignments_submitted  \\\n",
      "count    10.00000       10.000000       10.000000                  10.000000   \n",
      "mean      5.50000        5.660000       68.500000                   4.000000   \n",
      "std       3.02765        1.896312       21.350254                   1.763834   \n",
      "min       1.00000        2.800000       30.000000                   1.000000   \n",
      "25%       3.25000        4.250000       57.500000                   3.000000   \n",
      "50%       5.50000        5.850000       72.500000                   4.000000   \n",
      "75%       7.75000        7.250000       83.750000                   5.750000   \n",
      "max      10.00000        8.100000       95.000000                   6.000000   \n",
      "\n",
      "       lms_interactions  performance_label  \n",
      "count         10.000000          10.000000  \n",
      "mean          23.200000           1.000000  \n",
      "std           11.183321           0.816497  \n",
      "min            5.000000           0.000000  \n",
      "25%           16.250000           0.250000  \n",
      "50%           23.000000           1.000000  \n",
      "75%           31.750000           1.750000  \n",
      "max           40.000000           2.000000  \n"
     ]
    },
    {
     "data": {
      "image/png": "[encoded data removed]",
      "text/plain": [
       "<Figure size 600x400 with 1 Axes>"
      ]
     },
     "metadata": {},
     "output_type": "display_data"
    }
   ],
   "source": [
    "# Install missing packages\n",
    "%pip install pandas matplotlib seaborn\n",
    "\n",
    "# Import libraries\n",
    "import pandas as pd\n",
    "import matplotlib.pyplot as plt\n",
    "import seaborn as sns\n",
    "\n",
    "# Load the dataset\n",
    "df = pd.read_csv('../data/student_data.csv')\n",
    "print(\"🔹 Dataset Loaded:\")\n",
    "print(df.head())\n",
    "\n",
    "# Check for nulls\n",
    "print(\"\\n🔹 Missing Values:\")\n",
    "print(df.isnull().sum())\n",
    "\n",
    "# Describe stats\n",
    "print(\"\\n🔹 Statistical Overview:\")\n",
    "print(df.describe())\n",
    "\n",
    "# Visualize performance label distribution\n",
    "plt.figure(figsize=(6,4))\n",
    "sns.countplot(x='performance_label', data=df)\n",
    "plt.title(\"Performance Label Distribution\")\n",
    "plt.xlabel(\"Label (0 = At Risk, 1 = Average, 2 = High Performer)\")\n",
    "plt.show()\n"
   ]
  }
 ],
 "metadata": {
  "kernelspec": {
   "display_name": "Python 3",
   "language": "python",
   "name": "python3"
  },
  "language_info": {
   "codemirror_mode": {
    "name": "ipython",
    "version": 3
   },
   "file_extension": ".py",
   "mimetype": "text/x-python",
   "name": "python",
   "nbconvert_exporter": "python",
   "pygments_lexer": "ipython3",
   "version": "3.10.9"
  }
 },
 "nbformat": 4,
 "nbformat_minor": 5
}
