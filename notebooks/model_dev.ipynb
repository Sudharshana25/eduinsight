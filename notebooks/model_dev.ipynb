{
 "cells": [
  {
   "cell_type": "code",
   "execution_count": 1,
   "id": "6064f7e9",
   "metadata": {},
   "outputs": [
    {
     "name": "stdout",
     "output_type": "stream",
     "text": [
      "Requirement already satisfied: pandas in c:\\users\\sudha\\eis\\eduinsight\\venv\\lib\\site-packages (2.3.0)\n",
      "Requirement already satisfied: matplotlib in c:\\users\\sudha\\eis\\eduinsight\\venv\\lib\\site-packages (3.10.3)\n",
      "Requirement already satisfied: seaborn in c:\\users\\sudha\\eis\\eduinsight\\venv\\lib\\site-packages (0.13.2)\n",
      "Requirement already satisfied: scikit-learn in c:\\users\\sudha\\eis\\eduinsight\\venv\\lib\\site-packages (1.7.0)\n",
      "Requirement already satisfied: xgboost in c:\\users\\sudha\\eis\\eduinsight\\venv\\lib\\site-packages (3.0.2)\n",
      "Requirement already satisfied: numpy>=1.22.4 in c:\\users\\sudha\\eis\\eduinsight\\venv\\lib\\site-packages (from pandas) (2.2.6)\n",
      "Requirement already satisfied: pytz>=2020.1 in c:\\users\\sudha\\eis\\eduinsight\\venv\\lib\\site-packages (from pandas) (2025.2)\n",
      "Requirement already satisfied: python-dateutil>=2.8.2 in c:\\users\\sudha\\eis\\eduinsight\\venv\\lib\\site-packages (from pandas) (2.9.0.post0)\n",
      "Requirement already satisfied: tzdata>=2022.7 in c:\\users\\sudha\\eis\\eduinsight\\venv\\lib\\site-packages (from pandas) (2025.2)\n",
      "Requirement already satisfied: cycler>=0.10 in c:\\users\\sudha\\eis\\eduinsight\\venv\\lib\\site-packages (from matplotlib) (0.12.1)\n",
      "Requirement already satisfied: pillow>=8 in c:\\users\\sudha\\eis\\eduinsight\\venv\\lib\\site-packages (from matplotlib) (11.2.1)\n",
      "Requirement already satisfied: fonttools>=4.22.0 in c:\\users\\sudha\\eis\\eduinsight\\venv\\lib\\site-packages (from matplotlib) (4.58.4)\n",
      "Requirement already satisfied: kiwisolver>=1.3.1 in c:\\users\\sudha\\eis\\eduinsight\\venv\\lib\\site-packages (from matplotlib) (1.4.8)\n",
      "Requirement already satisfied: contourpy>=1.0.1 in c:\\users\\sudha\\eis\\eduinsight\\venv\\lib\\site-packages (from matplotlib) (1.3.2)\n",
      "Requirement already satisfied: packaging>=20.0 in c:\\users\\sudha\\eis\\eduinsight\\venv\\lib\\site-packages (from matplotlib) (25.0)\n",
      "Requirement already satisfied: pyparsing>=2.3.1 in c:\\users\\sudha\\eis\\eduinsight\\venv\\lib\\site-packages (from matplotlib) (3.2.3)\n",
      "Requirement already satisfied: threadpoolctl>=3.1.0 in c:\\users\\sudha\\eis\\eduinsight\\venv\\lib\\site-packages (from scikit-learn) (3.6.0)\n",
      "Requirement already satisfied: scipy>=1.8.0 in c:\\users\\sudha\\eis\\eduinsight\\venv\\lib\\site-packages (from scikit-learn) (1.15.3)\n",
      "Requirement already satisfied: joblib>=1.2.0 in c:\\users\\sudha\\eis\\eduinsight\\venv\\lib\\site-packages (from scikit-learn) (1.5.1)\n",
      "Requirement already satisfied: six>=1.5 in c:\\users\\sudha\\eis\\eduinsight\\venv\\lib\\site-packages (from python-dateutil>=2.8.2->pandas) (1.17.0)\n",
      "Note: you may need to restart the kernel to use updated packages.\n"
     ]
    },
    {
     "name": "stderr",
     "output_type": "stream",
     "text": [
      "\n",
      "[notice] A new release of pip available: 22.3.1 -> 25.1.1\n",
      "[notice] To update, run: python.exe -m pip install --upgrade pip\n"
     ]
    },
    {
     "name": "stdout",
     "output_type": "stream",
     "text": [
      "✅ Dataset Preview:\n",
      "    student_id  avg_quiz_score  attendance_pct  num_assignments_submitted  \\\n",
      "0           1             7.5              90                          6   \n",
      "1           2             4.0              55                          3   \n",
      "2           3             6.2              75                          4   \n",
      "3           4             5.0              65                          3   \n",
      "4           5             3.2              40                          2   \n",
      "\n",
      "   lms_interactions  performance_label  \n",
      "0                35                  2  \n",
      "1                15                  0  \n",
      "2                22                  1  \n",
      "3                20                  1  \n",
      "4                10                  0  \n",
      "\n",
      "🧹 Missing Values:\n",
      " student_id                   0\n",
      "avg_quiz_score               0\n",
      "attendance_pct               0\n",
      "num_assignments_submitted    0\n",
      "lms_interactions             0\n",
      "performance_label            0\n",
      "dtype: int64\n",
      "\n",
      "📈 Summary Statistics:\n",
      "        student_id  avg_quiz_score  attendance_pct  num_assignments_submitted  \\\n",
      "count    10.00000       10.000000       10.000000                  10.000000   \n",
      "mean      5.50000        5.660000       68.500000                   4.000000   \n",
      "std       3.02765        1.896312       21.350254                   1.763834   \n",
      "min       1.00000        2.800000       30.000000                   1.000000   \n",
      "25%       3.25000        4.250000       57.500000                   3.000000   \n",
      "50%       5.50000        5.850000       72.500000                   4.000000   \n",
      "75%       7.75000        7.250000       83.750000                   5.750000   \n",
      "max      10.00000        8.100000       95.000000                   6.000000   \n",
      "\n",
      "       lms_interactions  performance_label  \n",
      "count         10.000000          10.000000  \n",
      "mean          23.200000           1.000000  \n",
      "std           11.183321           0.816497  \n",
      "min            5.000000           0.000000  \n",
      "25%           16.250000           0.250000  \n",
      "50%           23.000000           1.000000  \n",
      "75%           31.750000           1.750000  \n",
      "max           40.000000           2.000000  \n"
     ]
    },
    {
     "name": "stderr",
     "output_type": "stream",
     "text": [
      "c:\\Users\\sudha\\EIS\\eduinsight\\venv\\lib\\site-packages\\IPython\\core\\pylabtools.py:170: UserWarning: Glyph 127919 (\\N{DIRECT HIT}) missing from font(s) DejaVu Sans.\n",
      "  fig.canvas.print_figure(bytes_io, **kw)\n"
     ]
    },
    {
     "data": {
      "image/png": "[encoded data removed]",
      "text/plain": [
       "<Figure size 600x400 with 1 Axes>"
      ]
     },
     "metadata": {},
     "output_type": "display_data"
    },
    {
     "name": "stderr",
     "output_type": "stream",
     "text": [
      "c:\\Users\\sudha\\EIS\\eduinsight\\venv\\lib\\site-packages\\sklearn\\metrics\\_classification.py:1706: UndefinedMetricWarning: Precision is ill-defined and being set to 0.0 in labels with no predicted samples. Use `zero_division` parameter to control this behavior.\n",
      "  _warn_prf(average, modifier, f\"{metric.capitalize()} is\", result.shape[0])\n",
      "c:\\Users\\sudha\\EIS\\eduinsight\\venv\\lib\\site-packages\\sklearn\\metrics\\_classification.py:1706: UndefinedMetricWarning: Recall is ill-defined and being set to 0.0 in labels with no true samples. Use `zero_division` parameter to control this behavior.\n",
      "  _warn_prf(average, modifier, f\"{metric.capitalize()} is\", result.shape[0])\n",
      "c:\\Users\\sudha\\EIS\\eduinsight\\venv\\lib\\site-packages\\sklearn\\metrics\\_classification.py:1706: UndefinedMetricWarning: Precision is ill-defined and being set to 0.0 in labels with no predicted samples. Use `zero_division` parameter to control this behavior.\n",
      "  _warn_prf(average, modifier, f\"{metric.capitalize()} is\", result.shape[0])\n",
      "c:\\Users\\sudha\\EIS\\eduinsight\\venv\\lib\\site-packages\\sklearn\\metrics\\_classification.py:1706: UndefinedMetricWarning: Recall is ill-defined and being set to 0.0 in labels with no true samples. Use `zero_division` parameter to control this behavior.\n",
      "  _warn_prf(average, modifier, f\"{metric.capitalize()} is\", result.shape[0])\n"
     ]
    },
    {
     "name": "stdout",
     "output_type": "stream",
     "text": [
      "\n",
      "🔹 Logistic Regression\n",
      "✅ Accuracy: 0.5\n",
      "📊 Confusion Matrix:\n",
      " [[0 1 0]\n",
      " [0 0 0]\n",
      " [0 0 1]]\n",
      "📋 Classification Report:\n",
      "               precision    recall  f1-score   support\n",
      "\n",
      "           0       0.00      0.00      0.00         1\n",
      "           1       0.00      0.00      0.00         0\n",
      "           2       1.00      1.00      1.00         1\n",
      "\n",
      "    accuracy                           0.50         2\n",
      "   macro avg       0.33      0.33      0.33         2\n",
      "weighted avg       0.50      0.50      0.50         2\n",
      "\n",
      "\n",
      "🔹 Random Forest\n",
      "✅ Accuracy: 0.5\n",
      "📊 Confusion Matrix:\n",
      " [[0 1 0]\n",
      " [0 0 0]\n",
      " [0 0 1]]\n",
      "📋 Classification Report:\n",
      "               precision    recall  f1-score   support\n",
      "\n",
      "           0       0.00      0.00      0.00         1\n",
      "           1       0.00      0.00      0.00         0\n",
      "           2       1.00      1.00      1.00         1\n",
      "\n",
      "    accuracy                           0.50         2\n",
      "   macro avg       0.33      0.33      0.33         2\n",
      "weighted avg       0.50      0.50      0.50         2\n",
      "\n"
     ]
    },
    {
     "name": "stderr",
     "output_type": "stream",
     "text": [
      "c:\\Users\\sudha\\EIS\\eduinsight\\venv\\lib\\site-packages\\sklearn\\metrics\\_classification.py:1706: UndefinedMetricWarning: Precision is ill-defined and being set to 0.0 in labels with no predicted samples. Use `zero_division` parameter to control this behavior.\n",
      "  _warn_prf(average, modifier, f\"{metric.capitalize()} is\", result.shape[0])\n",
      "c:\\Users\\sudha\\EIS\\eduinsight\\venv\\lib\\site-packages\\sklearn\\metrics\\_classification.py:1706: UndefinedMetricWarning: Recall is ill-defined and being set to 0.0 in labels with no true samples. Use `zero_division` parameter to control this behavior.\n",
      "  _warn_prf(average, modifier, f\"{metric.capitalize()} is\", result.shape[0])\n",
      "c:\\Users\\sudha\\EIS\\eduinsight\\venv\\lib\\site-packages\\sklearn\\metrics\\_classification.py:1706: UndefinedMetricWarning: Precision is ill-defined and being set to 0.0 in labels with no predicted samples. Use `zero_division` parameter to control this behavior.\n",
      "  _warn_prf(average, modifier, f\"{metric.capitalize()} is\", result.shape[0])\n",
      "c:\\Users\\sudha\\EIS\\eduinsight\\venv\\lib\\site-packages\\sklearn\\metrics\\_classification.py:1706: UndefinedMetricWarning: Recall is ill-defined and being set to 0.0 in labels with no true samples. Use `zero_division` parameter to control this behavior.\n",
      "  _warn_prf(average, modifier, f\"{metric.capitalize()} is\", result.shape[0])\n",
      "c:\\Users\\sudha\\EIS\\eduinsight\\venv\\lib\\site-packages\\sklearn\\metrics\\_classification.py:1706: UndefinedMetricWarning: Precision is ill-defined and being set to 0.0 in labels with no predicted samples. Use `zero_division` parameter to control this behavior.\n",
      "  _warn_prf(average, modifier, f\"{metric.capitalize()} is\", result.shape[0])\n",
      "c:\\Users\\sudha\\EIS\\eduinsight\\venv\\lib\\site-packages\\sklearn\\metrics\\_classification.py:1706: UndefinedMetricWarning: Recall is ill-defined and being set to 0.0 in labels with no true samples. Use `zero_division` parameter to control this behavior.\n",
      "  _warn_prf(average, modifier, f\"{metric.capitalize()} is\", result.shape[0])\n",
      "c:\\Users\\sudha\\EIS\\eduinsight\\venv\\lib\\site-packages\\sklearn\\metrics\\_classification.py:1706: UndefinedMetricWarning: Precision is ill-defined and being set to 0.0 in labels with no predicted samples. Use `zero_division` parameter to control this behavior.\n",
      "  _warn_prf(average, modifier, f\"{metric.capitalize()} is\", result.shape[0])\n",
      "c:\\Users\\sudha\\EIS\\eduinsight\\venv\\lib\\site-packages\\sklearn\\metrics\\_classification.py:1706: UndefinedMetricWarning: Recall is ill-defined and being set to 0.0 in labels with no true samples. Use `zero_division` parameter to control this behavior.\n",
      "  _warn_prf(average, modifier, f\"{metric.capitalize()} is\", result.shape[0])\n",
      "c:\\Users\\sudha\\EIS\\eduinsight\\venv\\lib\\site-packages\\xgboost\\training.py:183: UserWarning: [20:08:17] WARNING: C:\\actions-runner\\_work\\xgboost\\xgboost\\src\\learner.cc:738: \n",
      "Parameters: { \"use_label_encoder\" } are not used.\n",
      "\n",
      "  bst.update(dtrain, iteration=i, fobj=obj)\n"
     ]
    },
    {
     "name": "stdout",
     "output_type": "stream",
     "text": [
      "\n",
      "🔹 XGBoost\n",
      "✅ Accuracy: 1.0\n",
      "📊 Confusion Matrix:\n",
      " [[1 0]\n",
      " [0 1]]\n",
      "📋 Classification Report:\n",
      "               precision    recall  f1-score   support\n",
      "\n",
      "           0       1.00      1.00      1.00         1\n",
      "           2       1.00      1.00      1.00         1\n",
      "\n",
      "    accuracy                           1.00         2\n",
      "   macro avg       1.00      1.00      1.00         2\n",
      "weighted avg       1.00      1.00      1.00         2\n",
      "\n"
     ]
    }
   ],
   "source": [
    "# 🔧 Install all required packages\n",
    "%pip install pandas matplotlib seaborn scikit-learn xgboost\n",
    "\n",
    "# 📚 Import libraries\n",
    "import pandas as pd\n",
    "import matplotlib.pyplot as plt\n",
    "import seaborn as sns\n",
    "from sklearn.model_selection import train_test_split\n",
    "from sklearn.preprocessing import StandardScaler\n",
    "from sklearn.linear_model import LogisticRegression\n",
    "from sklearn.ensemble import RandomForestClassifier\n",
    "from xgboost import XGBClassifier\n",
    "from sklearn.metrics import accuracy_score, confusion_matrix, classification_report\n",
    "\n",
    "# 📂 Load dataset\n",
    "df = pd.read_csv('../data/student_data.csv')\n",
    "print(\"✅ Dataset Preview:\\n\", df.head())\n",
    "\n",
    "# ❓ Check missing values\n",
    "print(\"\\n🧹 Missing Values:\\n\", df.isnull().sum())\n",
    "\n",
    "# 📊 Describe stats\n",
    "print(\"\\n📈 Summary Statistics:\\n\", df.describe())\n",
    "\n",
    "# 📉 Visualize label distribution\n",
    "plt.figure(figsize=(6,4))\n",
    "sns.countplot(x='performance_label', data=df)\n",
    "plt.title(\"🎯 Performance Label Distribution\")\n",
    "plt.xlabel(\"Label (0 = At Risk, 1 = Average, 2 = High Performer)\")\n",
    "plt.show()\n",
    "\n",
    "# ✂️ Split features & target\n",
    "X = df.drop(['student_id', 'performance_label'], axis=1)\n",
    "y = df['performance_label']\n",
    "\n",
    "# 🧪 Train-Test Split\n",
    "X_train, X_test, y_train, y_test = train_test_split(X, y, test_size=0.2, random_state=42)\n",
    "\n",
    "# 📏 Feature Scaling\n",
    "scaler = StandardScaler()\n",
    "X_train_scaled = scaler.fit_transform(X_train)\n",
    "X_test_scaled = scaler.transform(X_test)\n",
    "\n",
    "# 🤖 Define ML models\n",
    "models = {\n",
    "    \"Logistic Regression\": LogisticRegression(max_iter=1000),\n",
    "    \"Random Forest\": RandomForestClassifier(),\n",
    "    \"XGBoost\": XGBClassifier(use_label_encoder=False, eval_metric='mlogloss')\n",
    "}\n",
    "\n",
    "# 🧠 Train & Evaluate\n",
    "for name, model in models.items():\n",
    "    model.fit(X_train_scaled, y_train)\n",
    "    preds = model.predict(X_test_scaled)\n",
    "\n",
    "    print(f\"\\n🔹 {name}\")\n",
    "    print(\"✅ Accuracy:\", accuracy_score(y_test, preds))\n",
    "    print(\"📊 Confusion Matrix:\\n\", confusion_matrix(y_test, preds))\n",
    "    print(\"📋 Classification Report:\\n\", classification_report(y_test, preds))\n"
   ]
  },
  {
   "cell_type": "code",
   "execution_count": 2,
   "id": "3f412455",
   "metadata": {},
   "outputs": [
    {
     "name": "stdout",
     "output_type": "stream",
     "text": [
      "✅ Model & Scaler Saved!\n"
     ]
    }
   ],
   "source": [
    "import joblib\n",
    "from sklearn.ensemble import RandomForestClassifier\n",
    "\n",
    "# Train again to be sure (or just use your earlier trained model if available)\n",
    "best_model = RandomForestClassifier()\n",
    "best_model.fit(X_train_scaled, y_train)\n",
    "\n",
    "# Save to ../models directory (make sure it exists)\n",
    "joblib.dump(best_model, '../models/performance_model.pkl')\n",
    "joblib.dump(scaler, '../models/scaler.pkl')\n",
    "\n",
    "print(\"✅ Model & Scaler Saved!\")\n"
   ]
  }
 ],
 "metadata": {
  "kernelspec": {
   "display_name": "venv",
   "language": "python",
   "name": "python3"
  },
  "language_info": {
   "codemirror_mode": {
    "name": "ipython",
    "version": 3
   },
   "file_extension": ".py",
   "mimetype": "text/x-python",
   "name": "python",
   "nbconvert_exporter": "python",
   "pygments_lexer": "ipython3",
   "version": "3.10.9"
  }
 },
 "nbformat": 4,
 "nbformat_minor": 5
}
